{
 "cells": [
  {
   "cell_type": "markdown",
   "metadata": {},
   "source": [
    "# Continuous control using DDPG and prioritized experience replay\n",
    "\n",
    "\n",
    "### 0. Import the necessary packages"
   ]
  },
  {
   "cell_type": "code",
   "execution_count": 1,
   "metadata": {},
   "outputs": [],
   "source": [
    "from unityagents import UnityEnvironment\n",
    "import numpy as np\n",
    "\n",
    "import torch\n",
    "import numpy as np\n",
    "import pandas as pd\n",
    "from collections import deque\n",
    "import sys\n",
    "import matplotlib.pyplot as plt\n",
    "%matplotlib inline\n",
    "\n",
    "# Import Agent\n",
    "from Continuous_Control_agent import Agent "
   ]
  },
  {
   "cell_type": "markdown",
   "metadata": {},
   "source": [
    "### 1. Start the environment\n",
    "\n",
    "If the code cell below returns an error, please revisit the project instructions to double-check that you have installed [Unity ML-Agents](https://github.com/Unity-Technologies/ml-agents/blob/master/docs/Installation.md) and [NumPy](http://www.numpy.org/).\n",
    "**_Before running the code cell below_**, change the `file_name` parameter to match the location of the Unity environment that you downloaded.\n",
    "\n",
    "- **Mac**: `\"path/to/Reacher.app\"`\n",
    "- **Windows** (x86): `\"path/to/Reacher_Windows_x86/Reacher.exe\"`\n",
    "- **Windows** (x86_64): `\"path/to/Reacher_Windows_x86_64/Reacher.exe\"`\n",
    "- **Linux** (x86): `\"path/to/Reacher_Linux/Reacher.x86\"`\n",
    "- **Linux** (x86_64): `\"path/to/Reacher_Linux/Reacher.x86_64\"`\n",
    "- **Linux** (x86, headless): `\"path/to/Reacher_Linux_NoVis/Reacher.x86\"`\n",
    "- **Linux** (x86_64, headless): `\"path/to/Reacher_Linux_NoVis/Reacher.x86_64\"`\n",
    "\n",
    "For instance, if you are using a Mac, then you downloaded `Reacher.app`.  If this file is in the same folder as the notebook, then the line below should appear as follows:\n",
    "```\n",
    "env = UnityEnvironment(file_name=\"Reacher.app\")\n",
    "```"
   ]
  },
  {
   "cell_type": "code",
   "execution_count": 2,
   "metadata": {},
   "outputs": [
    {
     "name": "stderr",
     "output_type": "stream",
     "text": [
      "INFO:unityagents:\n",
      "'Academy' started successfully!\n",
      "Unity Academy name: Academy\n",
      "        Number of Brains: 1\n",
      "        Number of External Brains : 1\n",
      "        Lesson number : 0\n",
      "        Reset Parameters :\n",
      "\t\tgoal_speed -> 1.0\n",
      "\t\tgoal_size -> 5.0\n",
      "Unity brain name: ReacherBrain\n",
      "        Number of Visual Observations (per agent): 0\n",
      "        Vector Observation space type: continuous\n",
      "        Vector Observation space size (per agent): 33\n",
      "        Number of stacked Vector Observation: 1\n",
      "        Vector Action space type: continuous\n",
      "        Vector Action space size (per agent): 4\n",
      "        Vector Action descriptions: , , , \n"
     ]
    }
   ],
   "source": [
    "env = UnityEnvironment(file_name='Reacher_Linux/Reacher.x86_64')"
   ]
  },
  {
   "cell_type": "markdown",
   "metadata": {},
   "source": [
    "Environments contain **_brains_** which are responsible for deciding the actions of their associated agents. Here we check for the first brain available, and set it as the default brain we will be controlling from Python."
   ]
  },
  {
   "cell_type": "code",
   "execution_count": 3,
   "metadata": {},
   "outputs": [],
   "source": [
    "# get the default brain\n",
    "brain_name = env.brain_names[0]\n",
    "brain = env.brains[brain_name]"
   ]
  },
  {
   "cell_type": "markdown",
   "metadata": {},
   "source": [
    "### 2. Examine the State and Action Spaces\n",
    "\n",
    "In this environment, a double-jointed arm can move to target locations. A reward of `+0.1` is provided for each step that the agent's hand is in the goal location. Thus, the goal of your agent is to maintain its position at the target location for as many time steps as possible.\n",
    "\n",
    "The observation space consists of `33` variables corresponding to position, rotation, velocity, and angular velocities of the arm.  Each action is a vector with four numbers, corresponding to torque applicable to two joints.  Every entry in the action vector must be a number between `-1` and `1`.\n",
    "\n",
    "Run the code cell below to print some information about the environment."
   ]
  },
  {
   "cell_type": "code",
   "execution_count": 4,
   "metadata": {},
   "outputs": [
    {
     "name": "stdout",
     "output_type": "stream",
     "text": [
      "Number of agents: 20\n",
      "Size of each action: 4\n",
      "There are 20 agents. Each observes a state with length: 33\n",
      "The state for the first agent looks like: [ 0.00000000e+00 -4.00000000e+00  0.00000000e+00  1.00000000e+00\n",
      " -0.00000000e+00 -0.00000000e+00 -4.37113883e-08  0.00000000e+00\n",
      "  0.00000000e+00  0.00000000e+00  0.00000000e+00  0.00000000e+00\n",
      "  0.00000000e+00  0.00000000e+00 -1.00000000e+01  0.00000000e+00\n",
      "  1.00000000e+00 -0.00000000e+00 -0.00000000e+00 -4.37113883e-08\n",
      "  0.00000000e+00  0.00000000e+00  0.00000000e+00  0.00000000e+00\n",
      "  0.00000000e+00  0.00000000e+00  5.75471878e+00 -1.00000000e+00\n",
      "  5.55726624e+00  0.00000000e+00  1.00000000e+00  0.00000000e+00\n",
      " -1.68164849e-01]\n"
     ]
    }
   ],
   "source": [
    "# reset the environment\n",
    "env_info = env.reset(train_mode=True)[brain_name]\n",
    "\n",
    "# number of agents\n",
    "num_agents = len(env_info.agents)\n",
    "print('Number of agents:', num_agents)\n",
    "\n",
    "# size of each action\n",
    "action_size = brain.vector_action_space_size\n",
    "print('Size of each action:', action_size)\n",
    "\n",
    "# examine the state space \n",
    "states = env_info.vector_observations\n",
    "state_size = states.shape[1]\n",
    "print('There are {} agents. Each observes a state with length: {}'.format(states.shape[0], state_size))\n",
    "print('The state for the first agent looks like:', states[0])"
   ]
  },
  {
   "cell_type": "markdown",
   "metadata": {},
   "source": [
    "### 3. Define training functions"
   ]
  },
  {
   "cell_type": "code",
   "execution_count": 5,
   "metadata": {},
   "outputs": [],
   "source": [
    "#Define training function\n",
    "def ddpg(agent, file_name_actor, file_name_critic, n_episodes=500, max_t=1000):\n",
    "    \"\"\"DDPG.\n",
    "    \n",
    "    Params\n",
    "    =======================================================================================\n",
    "        agent: agent class\n",
    "        file_name: name of the file with the saved weights \n",
    "        n_episodes (int): maximum number of training episodes\n",
    "     ======================================================================================   \n",
    "    \"\"\"\n",
    "    print('Training started!!!!!!')\n",
    "    scores = []                        # list containing scores from each episode    \n",
    "    scores_window = deque(maxlen=100)  # last 100 scores\n",
    "    previous_mean = -np.inf            # initialize mean over last 100 scores\n",
    "    \n",
    "    for i_episode in range(1, n_episodes+1):\n",
    "        env_info = env.reset(train_mode=True)[brain_name]\n",
    "        state = env_info.vector_observations\n",
    "        score = 0\n",
    "        for t in range(max_t):\n",
    "            action = agent.act(state)\n",
    "            env_info = env.step(action)[brain_name]\n",
    "            next_state = env_info.vector_observations\n",
    "            reward = env_info.rewards \n",
    "            done = env_info.local_done \n",
    "            agent.step(state, action, reward, next_state, done)\n",
    "            state = next_state\n",
    "            score += np.mean(reward)\n",
    "            #if done:\n",
    "                #break \n",
    "        scores_window.append(score)       # save most recent score\n",
    "        scores.append(score)              # save most recent score\n",
    "        print('\\rEpisode {}\\tAverage Score: {:.2f}'.format(i_episode, np.mean(scores_window)), end=\"\")\n",
    "        if i_episode % 20 == 0:\n",
    "            print('\\rEpisode {}\\tAverage Score: {:.2f}'.format(i_episode, np.mean(scores_window)))\n",
    "        \n",
    "        #Saves weights with the best average score over 100 consecutive episodes\n",
    "        if (np.mean(scores_window) >= previous_mean):\n",
    "            previous_mean = np.mean(scores_window)\n",
    "            torch.save(agent.actor_local.state_dict(), file_name_actor)\n",
    "            torch.save(agent.critic_local.state_dict(), file_name_critic)\n",
    "    return scores"
   ]
  },
  {
   "cell_type": "code",
   "execution_count": 6,
   "metadata": {},
   "outputs": [],
   "source": [
    "#Define the function that shows training results\n",
    "def show_results(scores):\n",
    "    moving_average = pd.Series(scores).rolling(100).mean()\n",
    "    episodes_greater_than_30 = np.where(moving_average>30)[0]  \n",
    "    if episodes_greater_than_30.size > 0:\n",
    "        end =episodes_greater_than_30[0]\n",
    "        start = end - 100 + 1\n",
    "        print('\\nEnvironment solved in {:d} episodes!\\tAverage score from episode {} to episode {}: {:.2f}'.\\\n",
    "              format(end+1, start+1, end+1, moving_average[end])) #Remember that episodes start from 1, not zero\n",
    "    else:\n",
    "        print('Neural net could not solve environment in {:d} episodes. Max average score was {:.2f}'.\\\n",
    "              format(len(scores), moving_average.max()))\n",
    "\n",
    "    # plot the scores\n",
    "    fig = plt.figure()\n",
    "    ax = fig.add_subplot(111)\n",
    "    plt.plot(np.arange(len(scores))+1, scores, label='Scores')\n",
    "    plt.plot(np.arange(len(scores))+1, moving_average, label='Moving average 100 episodes')\n",
    "    plt.title('Training evolution')\n",
    "    plt.ylabel('Score and moving average 100 episodes')\n",
    "    plt.xlabel('Episode #')\n",
    "    plt.legend()\n",
    "    plt.show()"
   ]
  },
  {
   "cell_type": "markdown",
   "metadata": {},
   "source": [
    "### 4. Train the agent"
   ]
  },
  {
   "cell_type": "code",
   "execution_count": 7,
   "metadata": {
    "scrolled": true
   },
   "outputs": [
    {
     "name": "stdout",
     "output_type": "stream",
     "text": [
      "Training started!!!!!!\n",
      "Episode 20\tAverage Score: 0.42\n",
      "Episode 40\tAverage Score: 0.73\n",
      "Episode 60\tAverage Score: 1.04\n",
      "Episode 80\tAverage Score: 1.51\n",
      "Episode 100\tAverage Score: 2.29\n",
      "Episode 120\tAverage Score: 3.73\n",
      "Episode 140\tAverage Score: 5.72\n",
      "Episode 160\tAverage Score: 8.18\n",
      "Episode 180\tAverage Score: 10.88\n",
      "Episode 200\tAverage Score: 13.63\n",
      "Episode 220\tAverage Score: 16.60\n",
      "Episode 240\tAverage Score: 19.47\n",
      "Episode 260\tAverage Score: 22.12\n",
      "Episode 280\tAverage Score: 24.37\n",
      "Episode 300\tAverage Score: 26.10\n",
      "Episode 320\tAverage Score: 27.34\n",
      "Episode 340\tAverage Score: 28.47\n",
      "Episode 360\tAverage Score: 29.64\n",
      "Episode 380\tAverage Score: 30.99\n",
      "Episode 400\tAverage Score: 32.07\n",
      "Episode 420\tAverage Score: 31.99\n",
      "Episode 440\tAverage Score: 31.21\n",
      "Episode 460\tAverage Score: 29.83\n",
      "Episode 480\tAverage Score: 27.00\n",
      "Episode 500\tAverage Score: 23.38\n",
      "\n",
      "Environment solved in 365 episodes!\tAverage score from episode 266 to episode 365: 30.03\n"
     ]
    },
    {
     "data": {
      "image/png": "[encoded data removed]",
      "text/plain": [
       "<Figure size 432x288 with 1 Axes>"
      ]
     },
     "metadata": {
      "needs_background": "light"
     },
     "output_type": "display_data"
    }
   ],
   "source": [
    "#Define the agent\n",
    "agent = Agent(state_size, action_size, random_seed=1)\n",
    "\n",
    "#Train the agent\n",
    "scores = ddpg(agent, 'checkpoint_actor.pth', 'checkpoint_critic.pth')\n",
    "\n",
    "#Show training results\n",
    "show_results(scores)"
   ]
  },
  {
   "cell_type": "markdown",
   "metadata": {},
   "source": [
    "### 5. Define the function that drives the behavior of the trained agent"
   ]
  },
  {
   "cell_type": "code",
   "execution_count": 17,
   "metadata": {},
   "outputs": [],
   "source": [
    "#Define the function that shows trained model in action\n",
    "def show_trained_agent(agent, file, n_episodes_trained=500, max_t=1000):\n",
    "    agent.actor_local.load_state_dict(torch.load(file)) #load the weights from file\n",
    "    scores_trained = []\n",
    "    print('Observing performance of trained agent...')\n",
    "    for i_episode in range(1, n_episodes_trained + 1):\n",
    "        env_info = env.reset(train_mode=False)[brain_name]\n",
    "        state = env_info.vector_observations\n",
    "        score = 0\n",
    "        for i in np.arange(max_t):\n",
    "            action = agent.act(state=state, add_noise=False)\n",
    "            env_info = env.step(action)[brain_name]\n",
    "            state = env_info.vector_observations       # Update state\n",
    "            reward = env_info.rewards                   # get the reward\n",
    "            done = env_info.local_done                  # see if episode has finished\n",
    "            score += np.mean(reward)                                # update the score  \n",
    "        scores_trained.append(score)\n",
    "        print('\\rEpisode {:d}/{:d}\\tScore: {:.2f}'.format(i_episode, n_episodes_trained, score), end=\"\")\n",
    "        if i_episode % 50 == 0:\n",
    "            print('\\rEpisode {:d}/{:d}\\tScore: {:.2f}'.format(i_episode, n_episodes_trained, score))\n",
    "    print('Average score over {:d} episodes: {:.2f}'.format(n_episodes_trained, np.mean(scores_trained)))\n",
    "    return scores_trained\n",
    "\n",
    "#Define the function that plots the scores of the trained agent\n",
    "def show_results_trained(scores_trained):\n",
    "    fig = plt.figure()\n",
    "    ax = fig.add_subplot(111)\n",
    "    plt.plot(np.arange(len(scores_trained))+1, scores_trained)\n",
    "    plt.title('Trained agent scores')\n",
    "    plt.ylabel('Score')\n",
    "    plt.xlabel('Episode #')\n",
    "    plt.show() \n",
    "\n",
    "    fig = plt.figure()\n",
    "    ax = fig.add_subplot(111)\n",
    "    plt.hist(scores_trained)\n",
    "    plt.title('Trained agent score distribution')\n",
    "    plt.ylabel('Frequency')\n",
    "    plt.xlabel('Score')\n",
    "    plt.show()"
   ]
  },
  {
   "cell_type": "markdown",
   "metadata": {},
   "source": [
    "### 6. Observe the behavior of the trained agent"
   ]
  },
  {
   "cell_type": "code",
   "execution_count": 18,
   "metadata": {},
   "outputs": [
    {
     "name": "stdout",
     "output_type": "stream",
     "text": [
      "Observing performance of trained agent...\n",
      "Episode 50/500\tScore: 36.82\n",
      "Episode 100/500\tScore: 36.53\n",
      "Episode 150/500\tScore: 36.33\n",
      "Episode 200/500\tScore: 35.76\n",
      "Episode 250/500\tScore: 35.11\n",
      "Episode 300/500\tScore: 34.74\n",
      "Episode 350/500\tScore: 36.95\n",
      "Episode 400/500\tScore: 36.17\n",
      "Episode 450/500\tScore: 36.29\n",
      "Episode 500/500\tScore: 34.87\n",
      "Average score over 500 episodes: 35.58\n"
     ]
    },
    {
     "data": {
      "image/png": "[encoded data removed]",
      "text/plain": [
       "<Figure size 432x288 with 1 Axes>"
      ]
     },
     "metadata": {
      "needs_background": "light"
     },
     "output_type": "display_data"
    },
    {
     "data": {
      "image/png": "[encoded data removed]",
      "text/plain": [
       "<Figure size 432x288 with 1 Axes>"
      ]
     },
     "metadata": {
      "needs_background": "light"
     },
     "output_type": "display_data"
    },
    {
     "name": "stdout",
     "output_type": "stream",
     "text": [
      "Score standard deviation: 0.91\n"
     ]
    }
   ],
   "source": [
    "#Run some episodes using the trained model\n",
    "scores_trained = show_trained_agent(agent, 'checkpoint_actor.pth')\n",
    "\n",
    "#Plot the scores of the trained agent\n",
    "show_results_trained(scores_trained)\n",
    "\n",
    "print('Score standard deviation: {:.2f}'.format(np.std(scores_trained)))"
   ]
  },
  {
   "cell_type": "markdown",
   "metadata": {},
   "source": [
    "Close the environment when finished"
   ]
  },
  {
   "cell_type": "code",
   "execution_count": 19,
   "metadata": {},
   "outputs": [],
   "source": [
    "env.close()"
   ]
  },
  {
   "cell_type": "code",
   "execution_count": null,
   "metadata": {},
   "outputs": [],
   "source": []
  }
 ],
 "metadata": {
  "kernelspec": {
   "display_name": "Python 3",
   "language": "python",
   "name": "python3"
  },
  "language_info": {
   "codemirror_mode": {
    "name": "ipython",
    "version": 3
   },
   "file_extension": ".py",
   "mimetype": "text/x-python",
   "name": "python",
   "nbconvert_exporter": "python",
   "pygments_lexer": "ipython3",
   "version": "3.6.11"
  }
 },
 "nbformat": 4,
 "nbformat_minor": 2
}
